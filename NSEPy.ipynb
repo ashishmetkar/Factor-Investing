{
 "cells": [
  {
   "cell_type": "code",
   "execution_count": 27,
   "id": "60f2f3ca",
   "metadata": {},
   "outputs": [],
   "source": [
    "import pandas as pd\n",
    "from nsepy import get_history\n",
    "from datetime import date"
   ]
  },
  {
   "cell_type": "code",
   "execution_count": 34,
   "id": "82e8fd2a",
   "metadata": {},
   "outputs": [
    {
     "data": {
      "text/plain": [
       "[                Open      High       Low     Close       Volume      Turnover\n",
       " Date                                                                         \n",
       " 2022-01-03  20825.90  21053.00  20823.95  21031.10  103503378.0  7.817780e+10\n",
       " 2022-01-04  21114.10  21138.20  20877.35  21107.40  150978894.0  9.745280e+10\n",
       " 2022-01-05  21079.40  21098.40  20895.35  21018.15  110286384.0  1.038584e+11\n",
       " 2022-01-06  20839.10  20975.30  20763.20  20948.10  130522073.0  1.074209e+11\n",
       " 2022-01-07  21039.55  21157.40  20887.85  21008.10  134623215.0  1.134713e+11\n",
       " 2022-01-10  21102.25  21179.35  20976.15  21163.80  119264565.0  1.016757e+11\n",
       " 2022-01-11  21163.35  21292.80  21135.25  21241.50  122213585.0  1.044798e+11\n",
       " 2022-01-12  21378.50  21415.05  21281.85  21394.10  125933213.0  1.000868e+11\n",
       " 2022-01-13  21406.10  21514.70  21220.40  21502.20  179630518.0  1.397778e+11\n",
       " 2022-01-14  21419.80  21499.75  21321.60  21456.10          NaN           NaN]"
      ]
     },
     "execution_count": 34,
     "metadata": {},
     "output_type": "execute_result"
    }
   ],
   "source": [
    "data = pd.DataFrame()\n",
    "data = [get_history(symbol=\"NIFTY200MOMENTM30\",\n",
    "                            start=date(2022,1,1),\n",
    "                            end=date(2022,1,14),\n",
    "                            index=True)]\n",
    "data"
   ]
  },
  {
   "cell_type": "code",
   "execution_count": 36,
   "id": "6ad6902d",
   "metadata": {},
   "outputs": [
    {
     "data": {
      "text/plain": [
       "list"
      ]
     },
     "execution_count": 36,
     "metadata": {},
     "output_type": "execute_result"
    }
   ],
   "source": [
    "type(data)"
   ]
  },
  {
   "cell_type": "code",
   "execution_count": null,
   "id": "a1fe59da",
   "metadata": {},
   "outputs": [],
   "source": []
  }
 ],
 "metadata": {
  "kernelspec": {
   "display_name": "Python 3 (ipykernel)",
   "language": "python",
   "name": "python3"
  },
  "language_info": {
   "codemirror_mode": {
    "name": "ipython",
    "version": 3
   },
   "file_extension": ".py",
   "mimetype": "text/x-python",
   "name": "python",
   "nbconvert_exporter": "python",
   "pygments_lexer": "ipython3",
   "version": "3.9.7"
  }
 },
 "nbformat": 4,
 "nbformat_minor": 5
}
